{
 "cells": [
  {
   "attachments": {},
   "cell_type": "markdown",
   "metadata": {},
   "source": [
    "# Data Types"
   ]
  },
  {
   "attachments": {},
   "cell_type": "markdown",
   "metadata": {},
   "source": [
    "## 1. Numeric Types\n",
    "int: integers (e.g. 42) <br>\n",
    "float: floating-point numbers (e.g. 3.14) <br>\n",
    "complex: complex numbers (e.g. 2 + 3j) <br>"
   ]
  },
  {
   "cell_type": "code",
   "execution_count": 29,
   "metadata": {},
   "outputs": [
    {
     "name": "stdout",
     "output_type": "stream",
     "text": [
      "42\n"
     ]
    }
   ],
   "source": [
    "myInteger = 42\n",
    "print(myInteger)"
   ]
  },
  {
   "cell_type": "code",
   "execution_count": 30,
   "metadata": {},
   "outputs": [
    {
     "name": "stdout",
     "output_type": "stream",
     "text": [
      "3.14\n"
     ]
    }
   ],
   "source": [
    "myFloat = 3.14\n",
    "print(myFloat)"
   ]
  },
  {
   "cell_type": "code",
   "execution_count": 31,
   "metadata": {},
   "outputs": [
    {
     "name": "stdout",
     "output_type": "stream",
     "text": [
      "(2+3j)\n"
     ]
    }
   ],
   "source": [
    "myComplex = 2 + 3j\n",
    "print(myComplex)"
   ]
  },
  {
   "attachments": {},
   "cell_type": "markdown",
   "metadata": {},
   "source": [
    "## 2. Boolean Type\n",
    "bool: boolean values (True or False)"
   ]
  },
  {
   "attachments": {},
   "cell_type": "markdown",
   "metadata": {},
   "source": [
    "## 3. Sequence Types\n",
    "str: strings (e.g. \"hello world\") <br>\n",
    "bytes: bytes (e.g. b'hello') <br>\n",
    "bytearray: mutable bytes (e.g. bytearray(b'hello')) <br>\n",
    "list: mutable ordered sequences of elements (e.g. [1, 2, 3]) <br>\n",
    "tuple: immutable ordered sequences of elements (e.g. (1, 2, 3)) <br>\n",
    "range: immutable sequences of numbers (e.g. range(10)) <br>\n",
    "memoryview: memory view of bytes (e.g. memoryview(b'hello'))"
   ]
  },
  {
   "attachments": {},
   "cell_type": "markdown",
   "metadata": {},
   "source": [
    "## 4. Set Types\n",
    "set: unordered collections of unique elements (e.g. {1, 2, 3}) <br>\n",
    "frozenset: immutable sets (e.g. frozenset({1, 2, 3})) <br>"
   ]
  },
  {
   "attachments": {},
   "cell_type": "markdown",
   "metadata": {},
   "source": [
    "## 5. Mapping Types\n",
    "dict: mutable mappings of keys to values (e.g. {'a': 1, 'b': 2})"
   ]
  },
  {
   "attachments": {},
   "cell_type": "markdown",
   "metadata": {},
   "source": [
    "## 6. File Types\n",
    "file: files opened for reading or writing (e.g. open('file.txt', 'w'))"
   ]
  },
  {
   "attachments": {},
   "cell_type": "markdown",
   "metadata": {},
   "source": [
    "## 7. Other Types\n",
    "NoneType: a special type that represents the absence of a value (None) <br>\n",
    "Ellipsis: a special type that represents an ellipsis (...) <br>\n",
    "NotImplementedType: a special type that represents an unimplemented value (NotImplemented) <br>\n",
    "type: a type that represents other types (e.g. type(int) returns the type type)"
   ]
  },
  {
   "cell_type": "code",
   "execution_count": null,
   "metadata": {},
   "outputs": [],
   "source": []
  },
  {
   "cell_type": "code",
   "execution_count": null,
   "metadata": {},
   "outputs": [],
   "source": []
  },
  {
   "cell_type": "markdown",
   "metadata": {},
   "source": []
  }
 ],
 "metadata": {
  "kernelspec": {
   "display_name": "scsp",
   "language": "python",
   "name": "python3"
  },
  "language_info": {
   "codemirror_mode": {
    "name": "ipython",
    "version": 3
   },
   "file_extension": ".py",
   "mimetype": "text/x-python",
   "name": "python",
   "nbconvert_exporter": "python",
   "pygments_lexer": "ipython3",
   "version": "3.9.6"
  },
  "orig_nbformat": 4
 },
 "nbformat": 4,
 "nbformat_minor": 2
}
